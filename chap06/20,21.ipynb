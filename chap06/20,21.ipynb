{
 "cells": [
  {
   "cell_type": "code",
   "execution_count": 4,
   "metadata": {},
   "outputs": [
    {
     "ename": "SyntaxError",
     "evalue": "cannot assign to function call here. Maybe you meant '==' instead of '='? (1030445512.py, line 7)",
     "output_type": "error",
     "traceback": [
      "\u001b[1;36m  Cell \u001b[1;32mIn[4], line 7\u001b[1;36m\u001b[0m\n\u001b[1;33m    h(key) = key % 13\u001b[0m\n\u001b[1;37m    ^\u001b[0m\n\u001b[1;31mSyntaxError\u001b[0m\u001b[1;31m:\u001b[0m cannot assign to function call here. Maybe you meant '==' instead of '='?\n"
     ]
    }
   ],
   "source": [
    "##20. 크키가 13인 해시 테이블에서 입력 자료 27과 130은 어떤 인덱스로 대응되는가?\n",
    "##해싱 함수는 h(key)=key%13라고 하자.\n",
    "\n",
    "## 27 % 13 = 1, 130 % 13 = 0"
   ]
  },
  {
   "cell_type": "markdown",
   "metadata": {},
   "source": [
    "'''21. 크기가 11인 해시 테이블을 가정하자. 해시 함수로는 다음을 사용한다.\n",
    "h(k) = k mod 11\n",
    "입력 자료가 다음과 같은 순서로 입력된다고 하면 다음 각 경우에 대한 해시 테이블의 내용을 그려라. \n",
    "12, 44, 13, 88, 23, 94, 11, 39, 20, 16,5\n",
    "1) 충돌 선형 조사법을 사용하여 처리한다.\n",
    "2) 충돌을 이차 조사법을 사용하여 처리한다.\n",
    "3) 충돌을 다음과 같은 이중 해시법을 사용하여 처리한다.\n",
    "h’(k) = 7-(k mod 7)\n",
    "4) 충돌을 체인법을 사용하여 처리한다.'''\n",
    "\n"
   ]
  },
  {
   "cell_type": "code",
   "execution_count": 7,
   "metadata": {},
   "outputs": [
    {
     "name": "stdout",
     "output_type": "stream",
     "text": [
      " 최초:  [None, None, None, None, None, None, None, None, None, None, None, None, None]\n",
      "12 삽입:  [None, None, None, None, None, None, None, None, None, None, None, None, 12]\n",
      "44 삽입:  [None, None, None, None, None, 44, None, None, None, None, None, None, 12]\n",
      "13 삽입:  [13, None, None, None, None, 44, None, None, None, None, None, None, 12]\n",
      "88 삽입:  [13, None, None, None, None, 44, None, None, None, None, 88, None, 12]\n",
      "23 삽입:  [13, None, None, None, None, 44, None, None, None, None, 88, 23, 12]\n",
      "94 삽입:  [13, None, None, 94, None, 44, None, None, None, None, 88, 23, 12]\n",
      "11 삽입:  [13, 11, None, 94, None, 44, None, None, None, None, 88, 23, 12]\n",
      "39 삽입:  [13, 11, 39, 94, None, 44, None, None, None, None, 88, 23, 12]\n",
      "20 삽입:  [13, 11, 39, 94, None, 44, None, 20, None, None, 88, 23, 12]\n",
      "16 삽입:  [13, 11, 39, 94, 16, 44, None, 20, None, None, 88, 23, 12]\n",
      "5 삽입:  [13, 11, 39, 94, 16, 44, 5, 20, None, None, 88, 23, 12]\n",
      "----------------------------------------------------------\n"
     ]
    }
   ],
   "source": [
    "M =13\n",
    "table = [None]*M\n",
    "def hashFn(key):\n",
    "    return key % M\n",
    "def hash_qp_add(k):\n",
    "    id = hashFn(key)\n",
    "   for i ,\n",
    "\n",
    "def lp_insert(key):\n",
    "    id = hashFn(key)\n",
    "    count = M\n",
    "    while count >0 and (table[id] != None):\n",
    "        id = (id+1+M) %M\n",
    "        count -=1\n",
    "    if count >0:\n",
    "        table[id] =key\n",
    "    return \n",
    "\n",
    "def lp_search(key):\n",
    "    id = hashFn(key)\n",
    "    count = M\n",
    "    while count >0:\n",
    "        if table[id] == None :\n",
    "            return None\n",
    "        if table[id] == key:\n",
    "            return table[id]\n",
    "        id = (id+1+M)%M\n",
    "        count -=1\n",
    "    return None\n",
    "\n",
    "def lp_delete(key):\n",
    "    id = hashFn(key)\n",
    "    count = M\n",
    "    while count >0:\n",
    "        if table[id] == None: return \n",
    "        if table[id] != -1 and table[id] ==key:\n",
    "            table[id] = -1\n",
    "            return \n",
    "        id = (id+1+M) % M\n",
    "        count -=1\n",
    "\n",
    "## 선형조사법\n",
    "print('선형 조사법')\n",
    "print(\" 최초: \",table)\n",
    "lp_insert(12); print(\"12 삽입: \", table)\n",
    "lp_insert(44); print(\"44 삽입: \", table)\n",
    "lp_insert(13); print(\"13 삽입: \", table)\n",
    "lp_insert(88); print(\"88 삽입: \", table)\n",
    "lp_insert(23); print(\"23 삽입: \", table)\n",
    "lp_insert(94); print(\"94 삽입: \", table)\n",
    "lp_insert(11); print(\"11 삽입: \", table)\n",
    "lp_insert(39); print(\"39 삽입: \", table)\n",
    "lp_insert(20); print(\"20 삽입: \", table)\n",
    "lp_insert(16); print(\"16 삽입: \", table)\n",
    "lp_insert(5); print(\"5 삽입: \", table)\n",
    "print(\"----------------------------------------------------------\")\n",
    "## 이차 조사법\n",
    "print('이차 조사법')\n"
   ]
  },
  {
   "cell_type": "code",
   "execution_count": null,
   "metadata": {},
   "outputs": [],
   "source": []
  }
 ],
 "metadata": {
  "kernelspec": {
   "display_name": "base",
   "language": "python",
   "name": "python3"
  },
  "language_info": {
   "codemirror_mode": {
    "name": "ipython",
    "version": 3
   },
   "file_extension": ".py",
   "mimetype": "text/x-python",
   "name": "python",
   "nbconvert_exporter": "python",
   "pygments_lexer": "ipython3",
   "version": "3.11.7"
  }
 },
 "nbformat": 4,
 "nbformat_minor": 2
}
