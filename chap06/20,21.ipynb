{
 "cells": [
  {
   "cell_type": "markdown",
   "metadata": {},
   "source": [
    "20. 크키가 13인 해시 테이블에서 입력 자료 27과 130은 어떤 인덱스로 대응되는가?\n",
    "##해싱 함수는 h(key)=key%13라고 하자.\n",
    "\n",
    "## 27 % 13 = 1, 130 % 13 = 0"
   ]
  },
  {
   "cell_type": "markdown",
   "metadata": {},
   "source": []
  },
  {
   "cell_type": "markdown",
   "metadata": {},
   "source": [
    "21. 크기가 11인 해시 테이블을 가정하자. 해시 함수로는 다음을 사용한다.\n",
    "h(k) = k mod 11\n",
    "입력 자료가 다음과 같은 순서로 입력된다고 하면 다음 각 경우에 대한 해시 테이블의 내용을 그려라. \n",
    "12, 44, 13, 88, 23, 94, 11, 39, 20, 16,5\n",
    "1) 충돌 선형 조사법을 사용하여 처리한다.\n",
    "0  | 44\n",
    "1  | 12\n",
    "2  | 13\n",
    "3  | 88\n",
    "4  | 23\n",
    "5  | 11\n",
    "6  | 94\n",
    "7  | 39\n",
    "8  | 16\n",
    "9  | 20\n",
    "10 | 5\n",
    "2) 충돌을 이차 조사법을 사용하여 처리한다.\n",
    "0  | 44\n",
    "1  | 12\n",
    "2  | 13\n",
    "3  | 16\n",
    "4  | 88\n",
    "5  | 23\n",
    "6  | 94\n",
    "7  | 39\n",
    "8  | -\n",
    "9  | 11\n",
    "10 | 20\n",
    "3) 충돌을 다음과 같은 이중 해시법을 사용하여 처리한다.\n",
    "h’(k) = 7-(k mod 7)\n",
    "0  | 44\n",
    "1  | 39\n",
    "2  | 13\n",
    "3  | 88\n",
    "4  | -\n",
    "5  | 5\n",
    "6  | 23\n",
    "7  | 16\n",
    "8  | -\n",
    "9  | 11\n",
    "10 | 20\n",
    "4) 충돌을 체인법을 사용하여 처리한다.\n",
    "0  | 44 -> 88 -> 11\n",
    "1  | 12 -> 23\n",
    "2  | 13\n",
    "3  | -\n",
    "4  | -\n",
    "5\n"
   ]
  },
  {
   "cell_type": "markdown",
   "metadata": {},
   "source": []
  }
 ],
 "metadata": {
  "kernelspec": {
   "display_name": "base",
   "language": "python",
   "name": "python3"
  },
  "language_info": {
   "codemirror_mode": {
    "name": "ipython",
    "version": 3
   },
   "file_extension": ".py",
   "mimetype": "text/x-python",
   "name": "python",
   "nbconvert_exporter": "python",
   "pygments_lexer": "ipython3",
   "version": "3.11.7"
  }
 },
 "nbformat": 4,
 "nbformat_minor": 2
}
