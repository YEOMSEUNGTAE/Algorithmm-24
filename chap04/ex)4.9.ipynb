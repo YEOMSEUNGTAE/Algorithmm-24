{
 "cells": [
  {
   "cell_type": "code",
   "execution_count": null,
   "metadata": {},
   "outputs": [],
   "source": [
    "import time\n",
    "\n",
    "def multMat(a, b):\n",
    "    return a * b\n",
    "\n",
    "def powerMat(x, n) :\n",
    "    if n == 1 :\n",
    "        return x\n",
    "    elif (n%2) == 0 :\n",
    "        return powerMat(multMat(x,x), n // 2)\n",
    "    else :\n",
    "        return multMat(x, powerMat(multMat(x,x), (n - 1) // 2))\n",
    "    \n",
    "print(\"억지기법(2**500)=\", powerMat(2.0, 500))\n",
    "print(\"축소정복기법(2**508) =\", multMat(2.0, 508))\n",
    "\n",
    "t1 = time.time()\n",
    "for i in range(100000) : powerMat(2.0, 500)\n",
    "t2 = time.time()\n",
    "for i in range(100000) : multMat(2.0, 500)\n",
    "t3 = time.time()\n",
    "\n",
    "print(\"억지기법 시간... \", t3-t2)\n",
    "print(\"축소정복기법 시간... \", t2-t1)"
   ]
  }
 ],
 "metadata": {
  "language_info": {
   "name": "python"
  }
 },
 "nbformat": 4,
 "nbformat_minor": 2
}
