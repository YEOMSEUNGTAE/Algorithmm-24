{
 "cells": [
  {
   "cell_type": "code",
   "execution_count": null,
   "metadata": {},
   "outputs": [],
   "source": [
    "def binary_search(A, key, low, high):\n",
    "    if low <= high:\n",
    "        mid = (low + high) // 2\n",
    "        if key == A[mid]:\n",
    "            return mid\n",
    "        elif key < A[mid]:\n",
    "            return binary_search(A, key, low, mid - 1)\n",
    "        else:\n",
    "            return binary_search(A, key, mid + 1, high)\n",
    "    return -1\n",
    "\n",
    "listA = [1, 3, 8, 13, 13, 16, 21, 26, 27, 30, 33, 36, 39, 41, 44, 49]\n",
    "\n",
    "print(\"입력 리스트 =\", listA)\n",
    "print(\"33 탐색(순환)-->\", binary_search(listA, 33, 0, len(listA)-1))\n",
    "print(\"32 탐색(순환)-->\", binary_search(listA, 32, 0, len(listA) -1) )"
   ]
  }
 ],
 "metadata": {
  "language_info": {
   "name": "python"
  }
 },
 "nbformat": 4,
 "nbformat_minor": 2
}
