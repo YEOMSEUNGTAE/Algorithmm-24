{
 "cells": [
  {
   "cell_type": "code",
   "execution_count": null,
   "metadata": {},
   "outputs": [],
   "source": [
    "def binary_search_iter(A, key, low, high) :\n",
    "    while (low <= high) :\n",
    "        mid = (low + high) // 2\n",
    "        if key == A[mid]:\n",
    "            return mid\n",
    "        elif key > A[mid]:\n",
    "            low = mid + 1\n",
    "        else:\n",
    "            high = mid - 1\n",
    "    return -1\n",
    "\n",
    "listA = [1, 3, 8, 13, 13, 16, 21, 26, 27, 30, 33, 36, 39, 41, 44, 49]\n",
    "print(\"입력 리스트 = \", listA)\n",
    "print(\"33 탐색(순환) --> \", binary_search_iter(listA, 33, 0, len(listA)-1))\n",
    "print(\"33 탐색(반복) --> \", binary_search_iter(listA, 33, 0, len(listA)-1))\n",
    "print(\"32 탐색(순환) --> \", binary_search_iter(listA, 32, 0, len(listA)-1))\n",
    "print(\"32 탐색(반복) --> \", binary_search_iter(listA, 32, 0, len(listA)-1))"
   ]
  }
 ],
 "metadata": {
  "language_info": {
   "name": "python"
  }
 },
 "nbformat": 4,
 "nbformat_minor": 2
}
