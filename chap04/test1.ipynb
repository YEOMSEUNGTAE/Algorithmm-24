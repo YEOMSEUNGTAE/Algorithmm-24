{
 "cells": [
  {
   "cell_type": "code",
   "execution_count": 4,
   "metadata": {},
   "outputs": [
    {
     "name": "stdout",
     "output_type": "stream",
     "text": [
      "행렬 곱셈 결과:\n",
      "[19, 22]\n",
      "[43, 50]\n",
      "\n",
      "행렬 거듭제곱 결과:\n",
      "[37, 54]\n",
      "[81, 118]\n",
      "행렬 곱셈 결과:\n",
      "[59, 33]\n",
      "[38, 22]\n",
      "\n",
      "행렬 거듭제곱 결과:\n",
      "[841, 954]\n",
      "[636, 1000]\n"
     ]
    }
   ],
   "source": [
    "#필수문제 16\n",
    "def multMul(M1, M2):\n",
    "    rw = len(M1)\n",
    "    coq = len(M2[0])\n",
    "    result = [[0] * coq for _ in range(rw)]\n",
    "    for i in range(rw):\n",
    "        for j in range(coq):\n",
    "            for k in range(len(M2)):\n",
    "                result[i][j] += M1[i][k] * M2[k][j]\n",
    "    return result\n",
    "\n",
    "def powerMat(x, n):\n",
    "    if n == 1:\n",
    "        return x\n",
    "    elif (n % 2) == 0:\n",
    "        return powerMat(multMul(x, x), n // 2)\n",
    "    else:\n",
    "        return multMul(x, powerMat(multMul(x, x), (n - 1) // 2))\n",
    "\n",
    "def print_matrix(matrix):\n",
    "    for row in matrix:\n",
    "        print(row)\n",
    "\n",
    "M1 = [[1, 2], [3, 4]]\n",
    "M2 = [[5, 6], [7, 8]]\n",
    "n = 3\n",
    "\n",
    "print(\"행렬 곱셈 결과:\")\n",
    "result_mul = multMul(M1, M2)\n",
    "print_matrix(result_mul)\n",
    "\n",
    "print(\"\\n행렬 거듭제곱 결과:\")\n",
    "result_power = powerMat(M1, n)\n",
    "print_matrix(result_power)\n",
    "\n",
    "M1 = [[1, 6], [4, 2]]\n",
    "M2 = [[5, 3], [9, 5]]\n",
    "n = 4\n",
    "\n",
    "print(\"행렬 곱셈 결과:\")\n",
    "result_mul = multMul(M1, M2)\n",
    "print_matrix(result_mul)\n",
    "\n",
    "print(\"\\n행렬 거듭제곱 결과:\")\n",
    "result_power = powerMat(M1, n)\n",
    "print_matrix(result_power)\n"
   ]
  },
  {
   "cell_type": "code",
   "execution_count": null,
   "metadata": {},
   "outputs": [],
   "source": []
  }
 ],
 "metadata": {
  "kernelspec": {
   "display_name": "base",
   "language": "python",
   "name": "python3"
  },
  "language_info": {
   "codemirror_mode": {
    "name": "ipython",
    "version": 3
   },
   "file_extension": ".py",
   "mimetype": "text/x-python",
   "name": "python",
   "nbconvert_exporter": "python",
   "pygments_lexer": "ipython3",
   "version": "3.11.7"
  }
 },
 "nbformat": 4,
 "nbformat_minor": 2
}
