{
 "cells": [
  {
   "cell_type": "code",
   "execution_count": null,
   "metadata": {},
   "outputs": [],
   "source": [
    "def kth_smallest_sort(A, k):\n",
    "    A.sort()\n",
    "    return A[k-1]\n",
    "\n",
    "test_list = [3, 1, 4, 1, 5, 9, 2, 6, 5]\n",
    "k = 3\n",
    "result = kth_smallest_sort(test_list, k)\n",
    "print(f\"{k}번째로 작은 원소는: {result}\")"
   ]
  }
 ],
 "metadata": {
  "language_info": {
   "name": "python"
  }
 },
 "nbformat": 4,
 "nbformat_minor": 2
}
