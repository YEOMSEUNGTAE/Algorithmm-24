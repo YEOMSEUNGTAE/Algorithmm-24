{
 "cells": [
  {
   "cell_type": "code",
   "execution_count": 19,
   "metadata": {},
   "outputs": [
    {
     "ename": "TypeError",
     "evalue": "'int' object is not subscriptable",
     "output_type": "error",
     "traceback": [
      "\u001b[1;31m---------------------------------------------------------------------------\u001b[0m",
      "\u001b[1;31mTypeError\u001b[0m                                 Traceback (most recent call last)",
      "Cell \u001b[1;32mIn[19], line 21\u001b[0m\n\u001b[0;32m     19\u001b[0m P \u001b[38;5;241m=\u001b[39m [(\u001b[38;5;241m2\u001b[39m,\u001b[38;5;241m6\u001b[39m),(\u001b[38;5;241m4\u001b[39m,\u001b[38;5;241m7\u001b[39m),(\u001b[38;5;241m4\u001b[39m,\u001b[38;5;241m1\u001b[39m),(\u001b[38;5;241m5\u001b[39m,\u001b[38;5;241m1\u001b[39m),(\u001b[38;5;241m3\u001b[39m,\u001b[38;5;241m2\u001b[39m)]\n\u001b[0;32m     20\u001b[0m P\u001b[38;5;241m.\u001b[39msort(key \u001b[38;5;241m=\u001b[39m \u001b[38;5;28;01mlambda\u001b[39;00m point: point[\u001b[38;5;241m1\u001b[39m])\n\u001b[1;32m---> 21\u001b[0m \u001b[38;5;28mprint\u001b[39m(\u001b[38;5;124m\"\u001b[39m\u001b[38;5;124m띠 영역내에서 d보다 작은 최근접쌍의 거리 찾기\u001b[39m\u001b[38;5;124m\"\u001b[39m ,strip_closest(P,\u001b[38;5;28mlen\u001b[39m(P)))\n",
      "Cell \u001b[1;32mIn[19], line 12\u001b[0m, in \u001b[0;36mstrip_closest\u001b[1;34m(P, d)\u001b[0m\n\u001b[0;32m     10\u001b[0m \u001b[38;5;28;01mfor\u001b[39;00m i \u001b[38;5;129;01min\u001b[39;00m \u001b[38;5;28mrange\u001b[39m(n):\n\u001b[0;32m     11\u001b[0m     j\u001b[38;5;241m=\u001b[39mi\u001b[38;5;241m+\u001b[39m\u001b[38;5;241m1\u001b[39m\n\u001b[1;32m---> 12\u001b[0m     \u001b[38;5;28;01mwhile\u001b[39;00m j \u001b[38;5;241m<\u001b[39m n \u001b[38;5;129;01mand\u001b[39;00m (P[j][\u001b[38;5;241m1\u001b[39m]\u001b[38;5;241m-\u001b[39mP[i[\u001b[38;5;241m1\u001b[39m]]):\n\u001b[0;32m     13\u001b[0m         dij \u001b[38;5;241m=\u001b[39m distance(P[i], P[j])\n\u001b[0;32m     14\u001b[0m         \u001b[38;5;28;01mif\u001b[39;00m dij \u001b[38;5;241m<\u001b[39m d_min:\n",
      "\u001b[1;31mTypeError\u001b[0m: 'int' object is not subscriptable"
     ]
    }
   ],
   "source": [
    "import math\n",
    "def distance (p1,p2):\n",
    "    return math.sqrt(p1[0]-p2[0]**2 + (p1[1]-p2[1])**2)\n",
    "\n",
    "def strip_closest(P,d):\n",
    "    n=len(P)\n",
    "    d_min = d\n",
    "    P.sort(key = lambda point: point[1])\n",
    "\n",
    "    for i in range(n):\n",
    "        j=i+1\n",
    "        while j < n and (P[j][1]-P[i[1]]):\n",
    "            dij = distance(P[i], P[j])\n",
    "            if dij < d_min:\n",
    "                d_min = dij\n",
    "                j+=1\n",
    "    return d_min\n",
    "\n",
    "P = [(2,6),(4,7),(4,1),(5,1),(3,2)]\n",
    "P.sort(key = lambda point: point[1])\n",
    "print(\"띠 영역내에서 d보다 작은 최근접쌍의 거리 찾기\" ,strip_closest(P,len(P)))"
   ]
  },
  {
   "cell_type": "code",
   "execution_count": 18,
   "metadata": {},
   "outputs": [
    {
     "name": "stdout",
     "output_type": "stream",
     "text": [
      "띠 영역내에서 d보다 작은 최근접쌍의 거리 찾기: 1.0\n"
     ]
    }
   ],
   "source": [
    "import math\n",
    "\n",
    "def distance(p1, p2):\n",
    "    return math.sqrt((p1[0] - p2[0])**2 + (p1[1] - p2[1])**2) #3장 113p\n",
    "\n",
    "def strip_closest(P, d):\n",
    "    n = len(P)\n",
    "    d_min = d\n",
    "\n",
    "    for i in range(n):\n",
    "        j = i + 1\n",
    "        while j < n and P[j][1] - P[i][1] < d_min: \n",
    "            dij = distance(P[i], P[j])\n",
    "            if dij < d_min:\n",
    "                d_min = dij\n",
    "            j += 1\n",
    "    return d_min\n",
    "\n",
    "P = [(2,6),(4,7),(4,1),(5,1),(3,2)]\n",
    "P.sort(key=lambda point: point[1])  \n",
    "print(\"띠 영역내에서 d보다 작은 최근접쌍의 거리 찾기:\", strip_closest(P, len(P)))\n"
   ]
  },
  {
   "cell_type": "code",
   "execution_count": null,
   "metadata": {},
   "outputs": [],
   "source": []
  }
 ],
 "metadata": {
  "kernelspec": {
   "display_name": "base",
   "language": "python",
   "name": "python3"
  },
  "language_info": {
   "codemirror_mode": {
    "name": "ipython",
    "version": 3
   },
   "file_extension": ".py",
   "mimetype": "text/x-python",
   "name": "python",
   "nbconvert_exporter": "python",
   "pygments_lexer": "ipython3",
   "version": "3.11.7"
  }
 },
 "nbformat": 4,
 "nbformat_minor": 2
}
