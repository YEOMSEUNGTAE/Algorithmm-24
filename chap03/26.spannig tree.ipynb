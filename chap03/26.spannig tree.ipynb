{
 "cells": [
  {
   "cell_type": "markdown",
   "metadata": {},
   "source": [
    "26. 신장 트리란 그래프 내의 모든 정점을 포함하는 트리다. 모든 정점들이 연결되어 있고, 사이클이 없어야 하며, 그래프의 n개의 정점을 정확히 (n-1)개의 간선으로 연결해야 한다. 깊이 우선 탐색이나 너비 우선 탐색을 이용하면 신장 트리를 구할 수 있다. 인접 행렬로 표현된 그래프에 대해 신장 트리를 구하는 알고리즘을 설계하라. 단 우선 탐색을 이용해라"
   ]
  },
  {
   "cell_type": "code",
   "execution_count": 1,
   "metadata": {},
   "outputs": [],
   "source": [
    "def spanning_tree(ad,bd, fs,id):\n",
    "    fs[id] = True\n",
    "    for v in range(len(bd)):\n",
    "        if not bd[v] and ad[id][v]!=0:\n",
    "            bd[v] = True\n",
    "            spanning_tree(ad, bd, fs, v)"
   ]
  },
  {
   "cell_type": "code",
   "execution_count": null,
   "metadata": {},
   "outputs": [],
   "source": []
  }
 ],
 "metadata": {
  "kernelspec": {
   "display_name": "base",
   "language": "python",
   "name": "python3"
  },
  "language_info": {
   "codemirror_mode": {
    "name": "ipython",
    "version": 3
   },
   "file_extension": ".py",
   "mimetype": "text/x-python",
   "name": "python",
   "nbconvert_exporter": "python",
   "pygments_lexer": "ipython3",
   "version": "3.11.7"
  }
 },
 "nbformat": 4,
 "nbformat_minor": 2
}
