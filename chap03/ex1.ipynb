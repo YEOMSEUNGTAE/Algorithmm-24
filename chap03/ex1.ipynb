{
 "cells": [
  {
   "cell_type": "code",
   "execution_count": 1,
   "metadata": {},
   "outputs": [
    {
     "name": "stdout",
     "output_type": "stream",
     "text": [
      "original [7, 1, 8, 4, 10, 1, 16, 2, 17]\n",
      " step  1 = [1, 7, 8, 4, 10, 1, 16, 2, 17]\n",
      " step  2 = [1, 1, 8, 4, 10, 7, 16, 2, 17]\n",
      " step  3 = [1, 1, 2, 4, 10, 7, 16, 8, 17]\n",
      " step  4 = [1, 1, 2, 4, 10, 7, 16, 8, 17]\n",
      " step  5 = [1, 1, 2, 4, 7, 10, 16, 8, 17]\n",
      " step  6 = [1, 1, 2, 4, 7, 8, 16, 10, 17]\n",
      " step  7 = [1, 1, 2, 4, 7, 8, 10, 16, 17]\n",
      " step  8 = [1, 1, 2, 4, 7, 8, 10, 16, 17]\n",
      "selection :  [1, 1, 2, 4, 7, 8, 10, 16, 17]\n"
     ]
    }
   ],
   "source": [
    "def printstep(arr, val):\n",
    "    print(\" step %2d = \" % val, end='')\n",
    "    print(arr)\n",
    "\n",
    "def selection(A):\n",
    "    n=len(A)\n",
    "    for i in range(n-1):\n",
    "        least =i\n",
    "        for j in range(i+1, n):\n",
    "            if(A[j]<A[least]):\n",
    "                least =j\n",
    "        A[i], A[least] = A[least], A[i]\n",
    "        printstep(A, i+1)\n",
    "\n",
    "data = [7,1,8,4,10,1,16,2,17]\n",
    "print(\"original\", data)\n",
    "selection(data)\n",
    "print(\"selection : \",data)"
   ]
  }
 ],
 "metadata": {
  "kernelspec": {
   "display_name": "base",
   "language": "python",
   "name": "python3"
  },
  "language_info": {
   "codemirror_mode": {
    "name": "ipython",
    "version": 3
   },
   "file_extension": ".py",
   "mimetype": "text/x-python",
   "name": "python",
   "nbconvert_exporter": "python",
   "pygments_lexer": "ipython3",
   "version": "3.11.7"
  }
 },
 "nbformat": 4,
 "nbformat_minor": 2
}
