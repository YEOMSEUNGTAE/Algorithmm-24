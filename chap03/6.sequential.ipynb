{
 "cells": [
  {
   "cell_type": "code",
   "execution_count": 1,
   "metadata": {},
   "outputs": [
    {
     "name": "stdout",
     "output_type": "stream",
     "text": [
      "0\n"
     ]
    }
   ],
   "source": [
    "def sequential_search(A, key):\n",
    "    for i in range(len(A)):\n",
    "        if A[i] == key:\n",
    "            return i\n",
    "    return -1\n",
    "result = sequential_search([1,2,3,4,5], 1)\n",
    "print(result)"
   ]
  },
  {
   "cell_type": "code",
   "execution_count": 8,
   "metadata": {},
   "outputs": [
    {
     "name": "stdout",
     "output_type": "stream",
     "text": [
      "-1\n"
     ]
    }
   ],
   "source": [
    "def sequential_search(A, key):\n",
    "    lestA = False\n",
    "    for i in range(len(A)):\n",
    "        if i > 0 and A[i-1] == 0 and A[i] == 0:\n",
    "            A[i-1], A[i] = 0, 1\n",
    "            lestA = True\n",
    "\n",
    "    if lestA:\n",
    "        return A\n",
    "    else:\n",
    "        return -1\n",
    "\n",
    "result = sequential_search([1, 2, 3, 4, 9, 18, 23], len([1, 2, 3, 4, 9, 18, 23]) - 1)\n",
    "print(result)"
   ]
  }
 ],
 "metadata": {
  "kernelspec": {
   "display_name": "base",
   "language": "python",
   "name": "python3"
  },
  "language_info": {
   "codemirror_mode": {
    "name": "ipython",
    "version": 3
   },
   "file_extension": ".py",
   "mimetype": "text/x-python",
   "name": "python",
   "nbconvert_exporter": "python",
   "pygments_lexer": "ipython3",
   "version": "3.11.7"
  }
 },
 "nbformat": 4,
 "nbformat_minor": 2
}
